{
  "nbformat": 4,
  "nbformat_minor": 0,
  "metadata": {
    "colab": {
      "name": "ADV DATA SCIENCE DAY 4 ASSIGNMENT",
      "provenance": [],
      "authorship_tag": "ABX9TyN+GYepi+gdHKzEH4hkpEZJ",
      "include_colab_link": true
    },
    "kernelspec": {
      "name": "python3",
      "display_name": "Python 3"
    }
  },
  "cells": [
    {
      "cell_type": "markdown",
      "metadata": {
        "id": "view-in-github",
        "colab_type": "text"
      },
      "source": [
        "<a href=\"https://colab.research.google.com/github/Akshatpattiwar512/Letsupgrade-Advance-Data-Science/blob/main/ADV_DATA_SCIENCE_DAY_4_ASSIGNMENT.ipynb\" target=\"_parent\"><img src=\"https://colab.research.google.com/assets/colab-badge.svg\" alt=\"Open In Colab\"/></a>"
      ]
    },
    {
      "cell_type": "markdown",
      "metadata": {
        "id": "ceUB1iebJ44E"
      },
      "source": [
        "### Eigenvalues and Eigenvectors of an array"
      ]
    },
    {
      "cell_type": "markdown",
      "metadata": {
        "id": "od2h-q_IeUnY"
      },
      "source": [
        "Explaination"
      ]
    },
    {
      "cell_type": "code",
      "metadata": {
        "id": "IhMCFCCCMrAI"
      },
      "source": [
        "#Eigenvectors are unit vectors, which means that their length or magnitude is equal to 1.0.\r\n",
        "#They are often referred as right vectors, which simply means a column vector (as opposed to a row vector or a left vector).\r\n",
        "#A right-vector is a vector as we understand them.\r\n",
        "\r\n",
        "#Eigenvalues are coefficients applied to eigenvectors that give the vectors their length or magnitude. \r\n"
      ],
      "execution_count": 193,
      "outputs": []
    },
    {
      "cell_type": "markdown",
      "metadata": {
        "id": "X0ppL457eW4_"
      },
      "source": [
        "Syntax"
      ]
    },
    {
      "cell_type": "code",
      "metadata": {
        "id": "_ThEB87RelI-"
      },
      "source": [
        "#Syntax: numpy.linalg.eig()"
      ],
      "execution_count": 194,
      "outputs": []
    },
    {
      "cell_type": "markdown",
      "metadata": {
        "id": "uJv8cgN5eo19"
      },
      "source": [
        "Code"
      ]
    },
    {
      "cell_type": "code",
      "metadata": {
        "colab": {
          "base_uri": "https://localhost:8080/"
        },
        "id": "CqyqQ5AcebUj",
        "outputId": "ba42dabc-2c17-4b01-b32e-d65001aa92ef"
      },
      "source": [
        "# importing numpy library \r\n",
        "import numpy as np \r\n",
        "  \r\n",
        "# create numpy 2d-array \r\n",
        "m = np.array([[1, 2], \r\n",
        "              [2, 3]]) \r\n",
        "  \r\n",
        "print(\"Printing the Original square array:\\n\", \r\n",
        "      m) \r\n",
        "  \r\n",
        "# finding eigenvalues and eigenvectors \r\n",
        "w, v = np.linalg.eig(m) \r\n",
        "  \r\n",
        "# printing eigen values \r\n",
        "print(\"Printing the Eigen values of the given square array:\\n\", w) \r\n",
        "  \r\n",
        "# printing eigen vectors \r\n",
        "print(\"Printing Right eigenvectors of the given square array:\\n\",v)"
      ],
      "execution_count": 195,
      "outputs": [
        {
          "output_type": "stream",
          "text": [
            "Printing the Original square array:\n",
            " [[1 2]\n",
            " [2 3]]\n",
            "Printing the Eigen values of the given square array:\n",
            " [-0.23606798  4.23606798]\n",
            "Printing Right eigenvectors of the given square array:\n",
            " [[-0.85065081 -0.52573111]\n",
            " [ 0.52573111 -0.85065081]]\n"
          ],
          "name": "stdout"
        }
      ]
    },
    {
      "cell_type": "markdown",
      "metadata": {
        "id": "kvBHKpFNJ7_K"
      },
      "source": [
        "### digitize()"
      ]
    },
    {
      "cell_type": "markdown",
      "metadata": {
        "id": "J3JLZT1ZQdqo"
      },
      "source": [
        "Explanation"
      ]
    },
    {
      "cell_type": "code",
      "metadata": {
        "id": "Y1LNt_0bQgnJ"
      },
      "source": [
        "#With the help of np.digitize() method, we can get the indices of the bins to which the each value is belongs to an array by using np.digitize() method"
      ],
      "execution_count": 196,
      "outputs": []
    },
    {
      "cell_type": "markdown",
      "metadata": {
        "id": "uce-0oaZQo7C"
      },
      "source": [
        "Syntax"
      ]
    },
    {
      "cell_type": "code",
      "metadata": {
        "id": "zUJAVaQCQqQ6"
      },
      "source": [
        "#Syntax : np.digitize(Array, Bin, Right)\r\n"
      ],
      "execution_count": 197,
      "outputs": []
    },
    {
      "cell_type": "markdown",
      "metadata": {
        "id": "5ny7jvMfQugD"
      },
      "source": [
        "Code"
      ]
    },
    {
      "cell_type": "code",
      "metadata": {
        "colab": {
          "base_uri": "https://localhost:8080/"
        },
        "id": "p4kHU5B4J73D",
        "outputId": "f07d8e1d-70eb-48e3-bd44-6464eab89a11"
      },
      "source": [
        "# import numpy \r\n",
        "import numpy as np \r\n",
        "  \r\n",
        "a = np.array([1.2, 2.4, 3.6, 4.8]) \r\n",
        "bins = np.array([1.0, 1.3, 2.5, 4.0, 10.0]) \r\n",
        "  \r\n",
        "# using np.digitize() method \r\n",
        "gfg = np.digitize(a, bins) \r\n",
        "  \r\n",
        "print(gfg) "
      ],
      "execution_count": 198,
      "outputs": [
        {
          "output_type": "stream",
          "text": [
            "[1 2 3 4]\n"
          ],
          "name": "stdout"
        }
      ]
    },
    {
      "cell_type": "markdown",
      "metadata": {
        "id": "-OiBcBXbJ7vD"
      },
      "source": [
        "### repeat()"
      ]
    },
    {
      "cell_type": "markdown",
      "metadata": {
        "id": "YIqwyfLCQxAS"
      },
      "source": [
        "Explaination"
      ]
    },
    {
      "cell_type": "code",
      "metadata": {
        "id": "RYrKnjt6J7ny"
      },
      "source": [
        "#The repeat() function is used to repeat elements of a Series. \r\n",
        "#Returns a new Series where each element of the current Series is repeated consecutively a given number of times.\r\n",
        "#The number of repetitions for each element. This should be a non-negative integer."
      ],
      "execution_count": 199,
      "outputs": []
    },
    {
      "cell_type": "markdown",
      "metadata": {
        "id": "wjIa4qP0Qz6i"
      },
      "source": [
        "Syntax"
      ]
    },
    {
      "cell_type": "code",
      "metadata": {
        "id": "pWy_epkbQ1MK"
      },
      "source": [
        "#Syntax: Series.repeat(repeats, axis=None)"
      ],
      "execution_count": 200,
      "outputs": []
    },
    {
      "cell_type": "markdown",
      "metadata": {
        "id": "ulh55kvGRKX6"
      },
      "source": [
        "Code"
      ]
    },
    {
      "cell_type": "code",
      "metadata": {
        "colab": {
          "base_uri": "https://localhost:8080/"
        },
        "id": "JaVzJBXRRPA7",
        "outputId": "346bbc77-82c3-45a1-bdc1-2665124b50ed"
      },
      "source": [
        "# importing pandas as pd \r\n",
        "import pandas as pd \r\n",
        "  \r\n",
        "# Creating the Series \r\n",
        "sr = pd.Series([10, 25, 3, 11, 24, 6]) \r\n",
        "  \r\n",
        "# Create the Index \r\n",
        "index_ = ['Coca Cola', 'Sprite', 'Coke', 'Fanta', 'Dew', 'ThumbsUp'] \r\n",
        "  \r\n",
        "# set the index \r\n",
        "sr.index = index_ \r\n",
        "  \r\n",
        "# Print the series \r\n",
        "print(sr) "
      ],
      "execution_count": 201,
      "outputs": [
        {
          "output_type": "stream",
          "text": [
            "Coca Cola    10\n",
            "Sprite       25\n",
            "Coke          3\n",
            "Fanta        11\n",
            "Dew          24\n",
            "ThumbsUp      6\n",
            "dtype: int64\n"
          ],
          "name": "stdout"
        }
      ]
    },
    {
      "cell_type": "markdown",
      "metadata": {
        "id": "2fkA90alJ7gs"
      },
      "source": [
        "### squeeze()"
      ]
    },
    {
      "cell_type": "markdown",
      "metadata": {
        "id": "6UJfpbRuRS8i"
      },
      "source": [
        "Explaination"
      ]
    },
    {
      "cell_type": "code",
      "metadata": {
        "id": "jmJMECukJ7Zi"
      },
      "source": [
        "#Pandas Series.squeeze() function squeeze 1 dimensional axis objects into scalars.\r\n",
        "#Series or DataFrames with a single element are squeezed to a scalar.\r\n",
        "#DataFrames with a single column or a single row are squeezed to a Series. Otherwise the object is unchanged."
      ],
      "execution_count": 202,
      "outputs": []
    },
    {
      "cell_type": "markdown",
      "metadata": {
        "id": "ASSDxO1bRlLD"
      },
      "source": [
        "Syntax"
      ]
    },
    {
      "cell_type": "code",
      "metadata": {
        "id": "fGOWsAdrRmqD"
      },
      "source": [
        "#Syntax: Series.squeeze(axis=None)"
      ],
      "execution_count": 203,
      "outputs": []
    },
    {
      "cell_type": "markdown",
      "metadata": {
        "id": "Ixa62tdxRrVB"
      },
      "source": [
        "Code"
      ]
    },
    {
      "cell_type": "code",
      "metadata": {
        "colab": {
          "base_uri": "https://localhost:8080/"
        },
        "id": "lrwBC3UWRySr",
        "outputId": "ac17e369-35ad-4d90-bd70-ca4a034c4a69"
      },
      "source": [
        "# importing pandas as pd \r\n",
        "import pandas as pd \r\n",
        "  \r\n",
        "# Creating the Series \r\n",
        "sr = pd.Series([100, 25, 32, 118, 24, 65]) \r\n",
        "  \r\n",
        "# Print the series \r\n",
        "print(sr)"
      ],
      "execution_count": 204,
      "outputs": [
        {
          "output_type": "stream",
          "text": [
            "0    100\n",
            "1     25\n",
            "2     32\n",
            "3    118\n",
            "4     24\n",
            "5     65\n",
            "dtype: int64\n"
          ],
          "name": "stdout"
        }
      ]
    },
    {
      "cell_type": "markdown",
      "metadata": {
        "id": "q2JNcvB_dqev"
      },
      "source": [
        "### linspace()"
      ]
    },
    {
      "cell_type": "markdown",
      "metadata": {
        "id": "hJDd2EYpduH4"
      },
      "source": [
        "Explaination"
      ]
    },
    {
      "cell_type": "code",
      "metadata": {
        "id": "ExJHiTP_dtAf"
      },
      "source": [
        "#The numpy.linspace() function returns number spaces evenly w.r.t interval"
      ],
      "execution_count": 205,
      "outputs": []
    },
    {
      "cell_type": "markdown",
      "metadata": {
        "id": "8kKDOkG6dyvy"
      },
      "source": [
        "Syntax"
      ]
    },
    {
      "cell_type": "code",
      "metadata": {
        "id": "2jE2OPSwdzgb"
      },
      "source": [
        "#numpy.linspace(start,\r\n",
        "#               stop,\r\n",
        "#               num = 50,\r\n",
        "#               endpoint = True,\r\n",
        "#               retstep = False,\r\n",
        "#               dtype = None)"
      ],
      "execution_count": 206,
      "outputs": []
    },
    {
      "cell_type": "markdown",
      "metadata": {
        "id": "bPPDPb7Hd0Om"
      },
      "source": [
        "Code"
      ]
    },
    {
      "cell_type": "code",
      "metadata": {
        "colab": {
          "base_uri": "https://localhost:8080/"
        },
        "id": "MnC0bA4Id0sm",
        "outputId": "b0da40de-eda8-419e-96e7-c6bbe1c28b75"
      },
      "source": [
        "import numpy as np \r\n",
        "  \r\n",
        "# restep set to True \r\n",
        "print(\"B\\n\", np.linspace(2.0, 3.0, num=5, retstep=True), \"\\n\") \r\n",
        "  \r\n",
        "# To evaluate sin() in long range  \r\n",
        "x = np.linspace(0, 2, 10) \r\n",
        "print(\"A\\n\", np.sin(x)) "
      ],
      "execution_count": 207,
      "outputs": [
        {
          "output_type": "stream",
          "text": [
            "B\n",
            " (array([2.  , 2.25, 2.5 , 2.75, 3.  ]), 0.25) \n",
            "\n",
            "A\n",
            " [0.         0.22039774 0.42995636 0.6183698  0.77637192 0.8961922\n",
            " 0.9719379  0.99988386 0.9786557  0.90929743]\n"
          ],
          "name": "stdout"
        }
      ]
    },
    {
      "cell_type": "markdown",
      "metadata": {
        "id": "wyXV23iSJ7SZ"
      },
      "source": [
        "### clip()"
      ]
    },
    {
      "cell_type": "markdown",
      "metadata": {
        "id": "MNmq-EZKR8rJ"
      },
      "source": [
        "Explaination"
      ]
    },
    {
      "cell_type": "code",
      "metadata": {
        "id": "wDQglccqJ7Kq"
      },
      "source": [
        "#Pandas dataframe.clip() is used to trim values at specified input threshold.\r\n",
        "#We can use this function to put a lower limit and upper limit on the values that any cell can have in the dataframe."
      ],
      "execution_count": 208,
      "outputs": []
    },
    {
      "cell_type": "markdown",
      "metadata": {
        "id": "yYmMYMwCSCAa"
      },
      "source": [
        "Syntax"
      ]
    },
    {
      "cell_type": "code",
      "metadata": {
        "id": "wW5eHntTSFwy"
      },
      "source": [
        "#Syntax: DataFrame.clip(lower=None, upper=None, axis=None, inplace=False, *args, **kwargs)"
      ],
      "execution_count": 209,
      "outputs": []
    },
    {
      "cell_type": "markdown",
      "metadata": {
        "id": "IzsQc8-ZSIri"
      },
      "source": [
        "Code"
      ]
    },
    {
      "cell_type": "code",
      "metadata": {
        "colab": {
          "base_uri": "https://localhost:8080/",
          "height": 225
        },
        "id": "IkUF1bKbSJ9C",
        "outputId": "6e6d0201-7033-41b0-ebc4-c829f0e94de4"
      },
      "source": [
        "# importing pandas as pd \r\n",
        "import pandas as pd \r\n",
        "  \r\n",
        "# Creating a dataframe using dictionary \r\n",
        "df = pd.DataFrame({\"A\":[-5, 8, 12, -9, 5, 3], \r\n",
        "                   \"B\":[-1, -4, 6, 4, 11, 3], \r\n",
        "                   \"C\":[11, 4, -8, 7, 3, -2]}) \r\n",
        "  \r\n",
        "# Printing the data frame for visualization \r\n",
        "df "
      ],
      "execution_count": 210,
      "outputs": [
        {
          "output_type": "execute_result",
          "data": {
            "text/html": [
              "<div>\n",
              "<style scoped>\n",
              "    .dataframe tbody tr th:only-of-type {\n",
              "        vertical-align: middle;\n",
              "    }\n",
              "\n",
              "    .dataframe tbody tr th {\n",
              "        vertical-align: top;\n",
              "    }\n",
              "\n",
              "    .dataframe thead th {\n",
              "        text-align: right;\n",
              "    }\n",
              "</style>\n",
              "<table border=\"1\" class=\"dataframe\">\n",
              "  <thead>\n",
              "    <tr style=\"text-align: right;\">\n",
              "      <th></th>\n",
              "      <th>A</th>\n",
              "      <th>B</th>\n",
              "      <th>C</th>\n",
              "    </tr>\n",
              "  </thead>\n",
              "  <tbody>\n",
              "    <tr>\n",
              "      <th>0</th>\n",
              "      <td>-5</td>\n",
              "      <td>-1</td>\n",
              "      <td>11</td>\n",
              "    </tr>\n",
              "    <tr>\n",
              "      <th>1</th>\n",
              "      <td>8</td>\n",
              "      <td>-4</td>\n",
              "      <td>4</td>\n",
              "    </tr>\n",
              "    <tr>\n",
              "      <th>2</th>\n",
              "      <td>12</td>\n",
              "      <td>6</td>\n",
              "      <td>-8</td>\n",
              "    </tr>\n",
              "    <tr>\n",
              "      <th>3</th>\n",
              "      <td>-9</td>\n",
              "      <td>4</td>\n",
              "      <td>7</td>\n",
              "    </tr>\n",
              "    <tr>\n",
              "      <th>4</th>\n",
              "      <td>5</td>\n",
              "      <td>11</td>\n",
              "      <td>3</td>\n",
              "    </tr>\n",
              "    <tr>\n",
              "      <th>5</th>\n",
              "      <td>3</td>\n",
              "      <td>3</td>\n",
              "      <td>-2</td>\n",
              "    </tr>\n",
              "  </tbody>\n",
              "</table>\n",
              "</div>"
            ],
            "text/plain": [
              "    A   B   C\n",
              "0  -5  -1  11\n",
              "1   8  -4   4\n",
              "2  12   6  -8\n",
              "3  -9   4   7\n",
              "4   5  11   3\n",
              "5   3   3  -2"
            ]
          },
          "metadata": {
            "tags": []
          },
          "execution_count": 210
        }
      ]
    },
    {
      "cell_type": "markdown",
      "metadata": {
        "id": "o-1ibcGqJ7Da"
      },
      "source": [
        "### extract()"
      ]
    },
    {
      "cell_type": "markdown",
      "metadata": {
        "id": "joaXMVvfSO1K"
      },
      "source": [
        "Explaination"
      ]
    },
    {
      "cell_type": "code",
      "metadata": {
        "id": "OukrUjlLJ67K"
      },
      "source": [
        "#Series.str can be used to access the values of the series as strings and apply several methods to it.\r\n",
        "#Pandas Series.str.extract() function is used to extract capture groups in the regex pat as columns in a DataFrame.\r\n",
        "#For each subject string in the Series, extract groups from the first match of regular expression pat."
      ],
      "execution_count": 211,
      "outputs": []
    },
    {
      "cell_type": "markdown",
      "metadata": {
        "id": "1b_YRCs-SmGZ"
      },
      "source": [
        "Syntax"
      ]
    },
    {
      "cell_type": "code",
      "metadata": {
        "id": "X6c_brLpSnV8"
      },
      "source": [
        "#Syntax: Series.str.extract(pat, flags=0, expand=True)"
      ],
      "execution_count": 212,
      "outputs": []
    },
    {
      "cell_type": "markdown",
      "metadata": {
        "id": "arC0MC7eSqYh"
      },
      "source": [
        "Code"
      ]
    },
    {
      "cell_type": "code",
      "metadata": {
        "colab": {
          "base_uri": "https://localhost:8080/"
        },
        "id": "1kSC85asSrQa",
        "outputId": "5de597b3-b228-4306-9467-4f32858a8681"
      },
      "source": [
        "# importing pandas as pd \r\n",
        "import pandas as pd \r\n",
        "  \r\n",
        "# importing re for regular expressions \r\n",
        "import re \r\n",
        "  \r\n",
        "# Creating the Series \r\n",
        "sr = pd.Series(['New_York', 'Lisbon', 'Tokyo', 'Paris', 'Munich']) \r\n",
        "  \r\n",
        "# Creating the index \r\n",
        "idx = ['City 1', 'City 2', 'City 3', 'City 4', 'City 5'] \r\n",
        "  \r\n",
        "# set the index \r\n",
        "sr.index = idx \r\n",
        "  \r\n",
        "# Print the series \r\n",
        "print(sr) "
      ],
      "execution_count": 213,
      "outputs": [
        {
          "output_type": "stream",
          "text": [
            "City 1    New_York\n",
            "City 2      Lisbon\n",
            "City 3       Tokyo\n",
            "City 4       Paris\n",
            "City 5      Munich\n",
            "dtype: object\n"
          ],
          "name": "stdout"
        }
      ]
    },
    {
      "cell_type": "markdown",
      "metadata": {
        "id": "vh2ywVB1dKV0"
      },
      "source": [
        ""
      ]
    },
    {
      "cell_type": "markdown",
      "metadata": {
        "id": "WREff0O7J6zi"
      },
      "source": [
        "### argpartition()"
      ]
    },
    {
      "cell_type": "markdown",
      "metadata": {
        "id": "QCB8X4J0Su6a"
      },
      "source": [
        "Explaination"
      ]
    },
    {
      "cell_type": "code",
      "metadata": {
        "id": "0WXOKtY2J6o7"
      },
      "source": [
        "#numpy.argpartition() function is used to create a indirect partitioned copy of input array with its elements rearranged in such a way that the value of the element in k-th position is in the position it would be in a sorted array.\r\n",
        "#All elements smaller than the k-th element are moved before this element and all equal or greater are moved behind it.\r\n",
        "#The ordering of the elements in the two partitions is undefined.\r\n",
        "#It returns an array of indices of the same shape as arr, i.e arr[index_array] yields a partition of arr."
      ],
      "execution_count": 214,
      "outputs": []
    },
    {
      "cell_type": "markdown",
      "metadata": {
        "id": "XM9Grd8pTEOy"
      },
      "source": [
        "Syntax"
      ]
    },
    {
      "cell_type": "code",
      "metadata": {
        "id": "ntZv3xG4TGiT"
      },
      "source": [
        "#Syntax : numpy.argpartition(arr, kth, axis=-1, kind=’introselect’, order=None)"
      ],
      "execution_count": 215,
      "outputs": []
    },
    {
      "cell_type": "markdown",
      "metadata": {
        "id": "RVaWDKxhTHs0"
      },
      "source": [
        "Code"
      ]
    },
    {
      "cell_type": "code",
      "metadata": {
        "colab": {
          "base_uri": "https://localhost:8080/"
        },
        "id": "bb-QGj_wTHb5",
        "outputId": "f02a0e95-1590-456d-d40a-2aa8036bf0dd"
      },
      "source": [
        "import numpy as geek \r\n",
        "  \r\n",
        "# input array \r\n",
        "in_arr = geek.array([[ 2, 0,  1], [ 5, 4, 9] ]) \r\n",
        "print (\"Input array : \\n\", in_arr)  \r\n",
        "  \r\n",
        "out_arr = geek.argpartition(in_arr, 1, axis = 1) \r\n",
        "print (\"Output partitioned array indices :\\n \", out_arr) "
      ],
      "execution_count": 216,
      "outputs": [
        {
          "output_type": "stream",
          "text": [
            "Input array : \n",
            " [[2 0 1]\n",
            " [5 4 9]]\n",
            "Output partitioned array indices :\n",
            "  [[1 2 0]\n",
            " [1 0 2]]\n"
          ],
          "name": "stdout"
        }
      ]
    },
    {
      "cell_type": "markdown",
      "metadata": {
        "id": "MTZzhJReJ6gy"
      },
      "source": [
        "### setdiff1d()"
      ]
    },
    {
      "cell_type": "markdown",
      "metadata": {
        "id": "uuKh98GjTKqy"
      },
      "source": [
        "Explaination"
      ]
    },
    {
      "cell_type": "code",
      "metadata": {
        "id": "ScDn8vH4TKcp"
      },
      "source": [
        "#setdiff1d() function find the set difference of two arrays and return the unique values in arr1 that are not in arr2. "
      ],
      "execution_count": 217,
      "outputs": []
    },
    {
      "cell_type": "markdown",
      "metadata": {
        "id": "ouKG4lENTKNR"
      },
      "source": [
        "Syntax"
      ]
    },
    {
      "cell_type": "code",
      "metadata": {
        "id": "mESMjX5XTJ8a"
      },
      "source": [
        "#Syntax : numpy.setdiff1d(arr1, arr2, assume_unique = False)"
      ],
      "execution_count": 218,
      "outputs": []
    },
    {
      "cell_type": "markdown",
      "metadata": {
        "id": "72kKpzP9TJrp"
      },
      "source": [
        "Code"
      ]
    },
    {
      "cell_type": "code",
      "metadata": {
        "colab": {
          "base_uri": "https://localhost:8080/"
        },
        "id": "mJ4IjLjoTJaM",
        "outputId": "d0bf425c-c637-4f5f-9ff3-d10e61210b9a"
      },
      "source": [
        "# importing numpy as np  \r\n",
        "import numpy as np  \r\n",
        "   \r\n",
        "arr1 = [5, 6, 2, 3, 4] \r\n",
        "arr2 = [1, 2, 3] \r\n",
        "   \r\n",
        "gfg = np.setdiff1d(arr1, arr2) \r\n",
        "   \r\n",
        "print (gfg)"
      ],
      "execution_count": 219,
      "outputs": [
        {
          "output_type": "stream",
          "text": [
            "[4 5 6]\n"
          ],
          "name": "stdout"
        }
      ]
    },
    {
      "cell_type": "markdown",
      "metadata": {
        "id": "4Kp9_s_gJ5wb"
      },
      "source": [
        "### itemsize"
      ]
    },
    {
      "cell_type": "markdown",
      "metadata": {
        "id": "F2V1Z4gOTNpZ"
      },
      "source": [
        "Explaination"
      ]
    },
    {
      "cell_type": "code",
      "metadata": {
        "id": "TeFAb4R2J6WC"
      },
      "source": [
        "#Pandas series is a One-dimensional ndarray with axis labels.\r\n",
        "#The labels need not be unique but must be a hashable type.\r\n",
        "#The object supports both integer- and label-based indexing and provides a host of methods for performing operations involving the index.\r\n",
        "#Pandas Series.itemsize attribute return the size of the dtype of the item of the underlying data for the given Series object."
      ],
      "execution_count": 220,
      "outputs": []
    },
    {
      "cell_type": "markdown",
      "metadata": {
        "id": "iuKdTFRhTNnG"
      },
      "source": [
        "Syntax"
      ]
    },
    {
      "cell_type": "code",
      "metadata": {
        "id": "enj8nkN4TN5t"
      },
      "source": [
        "#Syntax:Series.itemsize"
      ],
      "execution_count": 221,
      "outputs": []
    },
    {
      "cell_type": "markdown",
      "metadata": {
        "id": "mAhAnv2-TNkZ"
      },
      "source": [
        "Code"
      ]
    },
    {
      "cell_type": "code",
      "metadata": {
        "colab": {
          "base_uri": "https://localhost:8080/"
        },
        "id": "-xTY95DcTN2o",
        "outputId": "cb6e417d-5c3f-41d1-fc9b-a91ec54c5d0a"
      },
      "source": [
        "# importing pandas as pd \r\n",
        "import pandas as pd \r\n",
        "  \r\n",
        "# Creating the Series \r\n",
        "sr = pd.Series(['New York', 'Chicago', 'Toronto', 'Lisbon']) \r\n",
        "  \r\n",
        "# Creating the row axis labels \r\n",
        "sr.index = ['City 1', 'City 2', 'City 3', 'City 4']  \r\n",
        "  \r\n",
        "# Print the series \r\n",
        "print(sr)"
      ],
      "execution_count": 222,
      "outputs": [
        {
          "output_type": "stream",
          "text": [
            "City 1    New York\n",
            "City 2     Chicago\n",
            "City 3     Toronto\n",
            "City 4      Lisbon\n",
            "dtype: object\n"
          ],
          "name": "stdout"
        }
      ]
    },
    {
      "cell_type": "markdown",
      "metadata": {
        "id": "qJM2YC2CMOLB"
      },
      "source": [
        "### hstack()"
      ]
    },
    {
      "cell_type": "markdown",
      "metadata": {
        "id": "iUqQHZQGTNhn"
      },
      "source": [
        "Explaination"
      ]
    },
    {
      "cell_type": "code",
      "metadata": {
        "id": "uKefwiFNTN0f"
      },
      "source": [
        "#numpy.hstack() function is used to stack the sequence of input arrays horizontally (i.e. column wise) to make a single array."
      ],
      "execution_count": 223,
      "outputs": []
    },
    {
      "cell_type": "markdown",
      "metadata": {
        "id": "IX58cMU6TNe5"
      },
      "source": [
        "Syntax"
      ]
    },
    {
      "cell_type": "code",
      "metadata": {
        "id": "ah5IuIWDTNyD"
      },
      "source": [
        "#Syntax : numpy.hstack(tup)"
      ],
      "execution_count": 224,
      "outputs": []
    },
    {
      "cell_type": "markdown",
      "metadata": {
        "id": "9cBbM4_DTdia"
      },
      "source": [
        "Code"
      ]
    },
    {
      "cell_type": "code",
      "metadata": {
        "colab": {
          "base_uri": "https://localhost:8080/"
        },
        "id": "npP0b5qXTdzc",
        "outputId": "8a12f9e3-394f-49ca-f6b6-3fee9bafc8c3"
      },
      "source": [
        "import numpy as np\r\n",
        "  \r\n",
        "# input array \r\n",
        "in_arr1 = np.array([ 1, 2, 3] ) \r\n",
        "print (\"1st Input array : \\n\", in_arr1)  \r\n",
        "  \r\n",
        "in_arr2 = np.array([ 4, 5, 6] ) \r\n",
        "print (\"2nd Input array : \\n\", in_arr2)  \r\n",
        "  \r\n",
        "# Stacking the two arrays horizontally \r\n",
        "out_arr = np.hstack((in_arr1, in_arr2)) \r\n",
        "print (\"Output horizontally stacked array:\\n \", out_arr) "
      ],
      "execution_count": 225,
      "outputs": [
        {
          "output_type": "stream",
          "text": [
            "1st Input array : \n",
            " [1 2 3]\n",
            "2nd Input array : \n",
            " [4 5 6]\n",
            "Output horizontally stacked array:\n",
            "  [1 2 3 4 5 6]\n"
          ],
          "name": "stdout"
        }
      ]
    },
    {
      "cell_type": "markdown",
      "metadata": {
        "id": "2mqmVWw2MNoW"
      },
      "source": [
        "### vstack()"
      ]
    },
    {
      "cell_type": "markdown",
      "metadata": {
        "id": "MxZ1r0PNTdfE"
      },
      "source": [
        "Explaination"
      ]
    },
    {
      "cell_type": "code",
      "metadata": {
        "id": "Gd7aCMKNTdx9"
      },
      "source": [
        "#numpy.vstack() function is used to stack the sequence of input arrays vertically to make a single array."
      ],
      "execution_count": 226,
      "outputs": []
    },
    {
      "cell_type": "markdown",
      "metadata": {
        "id": "d0aJ0I1hTdbr"
      },
      "source": [
        "Syntax"
      ]
    },
    {
      "cell_type": "code",
      "metadata": {
        "id": "nGIlEikITdua"
      },
      "source": [
        "#Syntax : numpy.vstack(tup)"
      ],
      "execution_count": 227,
      "outputs": []
    },
    {
      "cell_type": "markdown",
      "metadata": {
        "id": "0oW_WPGyTdSi"
      },
      "source": [
        "Code"
      ]
    },
    {
      "cell_type": "code",
      "metadata": {
        "colab": {
          "base_uri": "https://localhost:8080/"
        },
        "id": "ttiJPM_XTdru",
        "outputId": "7356c551-0b7f-4940-d2ef-bfac0b5a42e8"
      },
      "source": [
        "import numpy as np\r\n",
        "  \r\n",
        "# input array \r\n",
        "in_arr1 = np.array([ 1, 2, 3] ) \r\n",
        "print (\"1st Input array : \\n\", in_arr1)  \r\n",
        "  \r\n",
        "in_arr2 = np.array([ 4, 5, 6] ) \r\n",
        "print (\"2nd Input array : \\n\", in_arr2)  \r\n",
        "  \r\n",
        "# Stacking the two arrays vertically \r\n",
        "out_arr = np.vstack((in_arr1, in_arr2)) "
      ],
      "execution_count": 228,
      "outputs": [
        {
          "output_type": "stream",
          "text": [
            "1st Input array : \n",
            " [1 2 3]\n",
            "2nd Input array : \n",
            " [4 5 6]\n"
          ],
          "name": "stdout"
        }
      ]
    },
    {
      "cell_type": "markdown",
      "metadata": {
        "id": "R6RQBxAfMMpW"
      },
      "source": [
        "### hsplit()"
      ]
    },
    {
      "cell_type": "markdown",
      "metadata": {
        "id": "dZhoRz_xTqHH"
      },
      "source": [
        "Explaination"
      ]
    },
    {
      "cell_type": "code",
      "metadata": {
        "id": "j5nOtwPXTNvU"
      },
      "source": [
        "#split() function is used to split strings around given separator/delimiter.\r\n",
        "#The function splits the string in the Series/Index from the beginning, at the specified delimiter string."
      ],
      "execution_count": 229,
      "outputs": []
    },
    {
      "cell_type": "markdown",
      "metadata": {
        "id": "cNI4oIqPTqDO"
      },
      "source": [
        "Syntax"
      ]
    },
    {
      "cell_type": "code",
      "metadata": {
        "id": "ADQaU3LsMOah"
      },
      "source": [
        "#Syntax : hsplit(array,column number)[index]"
      ],
      "execution_count": 230,
      "outputs": []
    },
    {
      "cell_type": "markdown",
      "metadata": {
        "id": "5kyiOHNmTqAJ"
      },
      "source": [
        "Code"
      ]
    },
    {
      "cell_type": "code",
      "metadata": {
        "colab": {
          "base_uri": "https://localhost:8080/"
        },
        "id": "cuvIqR-NMN6C",
        "outputId": "fa3ee92b-143f-425d-b89f-f2c67511995d"
      },
      "source": [
        "#import numpy as np\r\n",
        "import numpy as np\r\n",
        "arr=np.array([[1,2,3,4],\r\n",
        "              [5,6,7,8],\r\n",
        "              [9,10,11,12]])\r\n",
        "np.hsplit(arr,2)[1]"
      ],
      "execution_count": 231,
      "outputs": [
        {
          "output_type": "execute_result",
          "data": {
            "text/plain": [
              "array([[ 3,  4],\n",
              "       [ 7,  8],\n",
              "       [11, 12]])"
            ]
          },
          "metadata": {
            "tags": []
          },
          "execution_count": 231
        }
      ]
    },
    {
      "cell_type": "markdown",
      "metadata": {
        "id": "R8YoZsbiMMOd"
      },
      "source": [
        "### vsplit()"
      ]
    },
    {
      "cell_type": "markdown",
      "metadata": {
        "id": "a7sv3KXMTp5o"
      },
      "source": [
        "Explaination"
      ]
    },
    {
      "cell_type": "code",
      "metadata": {
        "id": "rEpnkwNOMNRs"
      },
      "source": [
        "#split() function is used to split strings around given separator/delimiter.\r\n",
        "#The function splits the string in the Series/Index from the beginning, at the specified delimiter string."
      ],
      "execution_count": 232,
      "outputs": []
    },
    {
      "cell_type": "markdown",
      "metadata": {
        "id": "M_1_irHZTp2D"
      },
      "source": [
        "Syntax"
      ]
    },
    {
      "cell_type": "code",
      "metadata": {
        "id": "qC9juqjkMMcr"
      },
      "source": [
        "#Syntax : hsplit(array,row number)[index]\r\n"
      ],
      "execution_count": 233,
      "outputs": []
    },
    {
      "cell_type": "markdown",
      "metadata": {
        "id": "9pjvcA5eTpzU"
      },
      "source": [
        "Code"
      ]
    },
    {
      "cell_type": "code",
      "metadata": {
        "colab": {
          "base_uri": "https://localhost:8080/"
        },
        "id": "fQBDvOqMTyRp",
        "outputId": "cba4c422-ae88-4e50-a862-018651d79ecc"
      },
      "source": [
        "#import numpy as np\r\n",
        "import numpy as np\r\n",
        "arr=np.array([[1,2,3,4],\r\n",
        "              [5,6,7,8],\r\n",
        "              [9,10,11,12]])\r\n",
        "np.vsplit(arr,3)[2]"
      ],
      "execution_count": 234,
      "outputs": [
        {
          "output_type": "execute_result",
          "data": {
            "text/plain": [
              "array([[ 9, 10, 11, 12]])"
            ]
          },
          "metadata": {
            "tags": []
          },
          "execution_count": 234
        }
      ]
    },
    {
      "cell_type": "markdown",
      "metadata": {
        "id": "i7yoOdfyMzpq"
      },
      "source": [
        "### View vs Shallow Copy"
      ]
    },
    {
      "cell_type": "markdown",
      "metadata": {
        "id": "Rf-P4s2aT0Uk"
      },
      "source": [
        "Explaination"
      ]
    },
    {
      "cell_type": "code",
      "metadata": {
        "id": "ymwsa10zMLsS"
      },
      "source": [
        "#View: This is also known as Shallow Copy. The view is just a view of the original array and view does not own the data.\r\n",
        "#When we make changes to the view it affects the original array, and when changes are made to the original array it affects the view."
      ],
      "execution_count": 235,
      "outputs": []
    },
    {
      "cell_type": "markdown",
      "metadata": {
        "id": "v9hLlwF0T0R7"
      },
      "source": [
        "Syntax"
      ]
    },
    {
      "cell_type": "code",
      "metadata": {
        "id": "T2P_cHIHMzha"
      },
      "source": [
        "#Syntax : arr.view()"
      ],
      "execution_count": 236,
      "outputs": []
    },
    {
      "cell_type": "markdown",
      "metadata": {
        "id": "PcaYTb4TT0Oh"
      },
      "source": [
        "Code"
      ]
    },
    {
      "cell_type": "code",
      "metadata": {
        "colab": {
          "base_uri": "https://localhost:8080/"
        },
        "id": "rAMmPEqtT26b",
        "outputId": "44c650bb-8a6e-48d1-9ba3-d8bd56c3d294"
      },
      "source": [
        "import numpy as np \r\n",
        "  \r\n",
        "# creating array \r\n",
        "arr = np.array([2, 4, 6, 8, 10]) \r\n",
        "  \r\n",
        "# creating view  \r\n",
        "v = arr.view() \r\n",
        "  \r\n",
        "# both arr and v have different id \r\n",
        "print(\"id of arr\", id(arr)) \r\n",
        "print(\"id of v\", id(v)) \r\n",
        "  \r\n",
        "# changing original array \r\n",
        "# will effect view \r\n",
        "arr[0] = 12\r\n",
        "  \r\n",
        "# printing array and view \r\n",
        "print(\"original array- \", arr) \r\n",
        "print(\"view- \", v) "
      ],
      "execution_count": 237,
      "outputs": [
        {
          "output_type": "stream",
          "text": [
            "id of arr 140374131557120\n",
            "id of v 140374131235696\n",
            "original array-  [12  4  6  8 10]\n",
            "view-  [12  4  6  8 10]\n"
          ],
          "name": "stdout"
        }
      ]
    },
    {
      "cell_type": "markdown",
      "metadata": {
        "id": "trVk7qTNMzVa"
      },
      "source": [
        "### Deep Copy"
      ]
    },
    {
      "cell_type": "markdown",
      "metadata": {
        "id": "GcxS_OWsVONt"
      },
      "source": [
        "Explaination"
      ]
    },
    {
      "cell_type": "code",
      "metadata": {
        "id": "uJaiu7kEVOZa"
      },
      "source": [
        "#Copy: This is also known as Deep Copy. The copy is completely a new array and copy owns the data.\r\n",
        "#When we make changes to the copy it does not affect the original array, and when changes are made to the original array it does not affect the copy."
      ],
      "execution_count": 238,
      "outputs": []
    },
    {
      "cell_type": "markdown",
      "metadata": {
        "id": "gF1cMCQNVOLL"
      },
      "source": [
        "Syntax"
      ]
    },
    {
      "cell_type": "code",
      "metadata": {
        "id": "VGB3CE2wVOXS"
      },
      "source": [
        "#Syntax : arr.copy()"
      ],
      "execution_count": 239,
      "outputs": []
    },
    {
      "cell_type": "markdown",
      "metadata": {
        "id": "yXyh0gTGVOIk"
      },
      "source": [
        "Code"
      ]
    },
    {
      "cell_type": "code",
      "metadata": {
        "colab": {
          "base_uri": "https://localhost:8080/"
        },
        "id": "1uODCJ6BVOUh",
        "outputId": "ad52a9f1-771c-4b46-c26c-c82921ca9f3f"
      },
      "source": [
        "import numpy as np \r\n",
        "  \r\n",
        "# creating array \r\n",
        "arr = np.array([2, 4, 6, 8, 10]) \r\n",
        "  \r\n",
        "# creating copy of array \r\n",
        "c = arr.copy() \r\n",
        "  \r\n",
        "# both arr and c have different id \r\n",
        "print(\"id of arr\", id(arr)) \r\n",
        "print(\"id of c\", id(c)) \r\n",
        "  \r\n",
        "# changing original array \r\n",
        "# this will not effect copy \r\n",
        "arr[0] = 12\r\n",
        "  \r\n",
        "# printing array and copy \r\n",
        "print(\"original array- \", arr) \r\n",
        "print(\"copy- \", c) "
      ],
      "execution_count": 240,
      "outputs": [
        {
          "output_type": "stream",
          "text": [
            "id of arr 140374131310224\n",
            "id of c 140374131260272\n",
            "original array-  [12  4  6  8 10]\n",
            "copy-  [ 2  4  6  8 10]\n"
          ],
          "name": "stdout"
        }
      ]
    },
    {
      "cell_type": "markdown",
      "metadata": {
        "id": "J-1Ug_47My_L"
      },
      "source": [
        "### copy()"
      ]
    },
    {
      "cell_type": "markdown",
      "metadata": {
        "id": "7w2IqD7BVOGO"
      },
      "source": [
        "Explaination"
      ]
    },
    {
      "cell_type": "code",
      "metadata": {
        "id": "ouHGMofOMzJ6"
      },
      "source": [
        "#Returns a shallow copy of a list. \r\n",
        "#hallow copy means the any modification in new list won’t be reflected to original list "
      ],
      "execution_count": 241,
      "outputs": []
    },
    {
      "cell_type": "markdown",
      "metadata": {
        "id": "gledUvRzVODk"
      },
      "source": [
        "Syntax"
      ]
    },
    {
      "cell_type": "code",
      "metadata": {
        "id": "f40-RfPKVSpL"
      },
      "source": [
        "#Syntax : list.copy()"
      ],
      "execution_count": 242,
      "outputs": []
    },
    {
      "cell_type": "markdown",
      "metadata": {
        "id": "YTQ5L48sVVLL"
      },
      "source": [
        "Code"
      ]
    },
    {
      "cell_type": "code",
      "metadata": {
        "colab": {
          "base_uri": "https://localhost:8080/"
        },
        "id": "HHFrqOS4My1Z",
        "outputId": "b9c4ad47-337e-4f58-8597-96cd39cbff80"
      },
      "source": [
        "lis1 = [ 1, 2, 3, 4 ] \r\n",
        "  \r\n",
        "# Using copy() to create a shallow copy \r\n",
        "lis2 = lis1.copy() \r\n",
        "  \r\n",
        "# Printing new list  \r\n",
        "print (\"The new list created is : \" + str(lis2)) \r\n",
        "  \r\n",
        "# Adding new element to new list \r\n",
        "lis2.append(5) \r\n",
        "  \r\n",
        "# Printing lists after adding new element \r\n",
        "# No change in old list \r\n",
        "print (\"The new list after adding new element : \" + str(lis2)) \r\n",
        "print (\"The old list after adding new element to new list  : \" + str(lis1)) "
      ],
      "execution_count": 243,
      "outputs": [
        {
          "output_type": "stream",
          "text": [
            "The new list created is : [1, 2, 3, 4]\n",
            "The new list after adding new element : [1, 2, 3, 4, 5]\n",
            "The old list after adding new element to new list  : [1, 2, 3, 4]\n"
          ],
          "name": "stdout"
        }
      ]
    },
    {
      "cell_type": "markdown",
      "metadata": {
        "id": "-CMrY3ohMytr"
      },
      "source": [
        "### meshgrid()"
      ]
    },
    {
      "cell_type": "markdown",
      "metadata": {
        "id": "jDHwuxrGVWjx"
      },
      "source": [
        "Explaination"
      ]
    },
    {
      "cell_type": "code",
      "metadata": {
        "id": "sej_U1GIVWTS"
      },
      "source": [
        "#The numpy.meshgrid function is used to create a rectangular grid out of two given one-dimensional arrays representing the Cartesian indexing or Matrix indexing."
      ],
      "execution_count": 244,
      "outputs": []
    },
    {
      "cell_type": "markdown",
      "metadata": {
        "id": "nh32tsQFVWct"
      },
      "source": [
        "Syntax"
      ]
    },
    {
      "cell_type": "code",
      "metadata": {
        "id": "dlt0dRhjVYtZ"
      },
      "source": [
        "#Syntax : np.meshgrid(x, y, sparse = True)"
      ],
      "execution_count": 245,
      "outputs": []
    },
    {
      "cell_type": "markdown",
      "metadata": {
        "id": "-JjAQHmnVWCi"
      },
      "source": [
        "Code"
      ]
    },
    {
      "cell_type": "code",
      "metadata": {
        "colab": {
          "base_uri": "https://localhost:8080/"
        },
        "id": "qAaOqoi4VYqi",
        "outputId": "520ddda8-ce9b-4908-c5ce-350ecd73c6fb"
      },
      "source": [
        "import numpy as np \r\n",
        "# from matplotlib import pyplot as plt \r\n",
        "# pyplot imported for plotting graphs \r\n",
        "  \r\n",
        "x = np.linspace(-4, 4, 9) \r\n",
        "  \r\n",
        "# numpy.linspace creates an array of \r\n",
        "# 9 linearly placed elements between \r\n",
        "# -4 and 4, both inclusive  \r\n",
        "y = np.linspace(-5, 5, 11) \r\n",
        "  \r\n",
        "# The meshgrid function returns \r\n",
        "# two 2-dimensional arrays  \r\n",
        "x_1, y_1 = np.meshgrid(x, y) \r\n",
        "  \r\n",
        "print(\"x_1 = \") \r\n",
        "print(x_1) \r\n",
        "print(\"y_1 = \") \r\n",
        "print(y_1) "
      ],
      "execution_count": 246,
      "outputs": [
        {
          "output_type": "stream",
          "text": [
            "x_1 = \n",
            "[[-4. -3. -2. -1.  0.  1.  2.  3.  4.]\n",
            " [-4. -3. -2. -1.  0.  1.  2.  3.  4.]\n",
            " [-4. -3. -2. -1.  0.  1.  2.  3.  4.]\n",
            " [-4. -3. -2. -1.  0.  1.  2.  3.  4.]\n",
            " [-4. -3. -2. -1.  0.  1.  2.  3.  4.]\n",
            " [-4. -3. -2. -1.  0.  1.  2.  3.  4.]\n",
            " [-4. -3. -2. -1.  0.  1.  2.  3.  4.]\n",
            " [-4. -3. -2. -1.  0.  1.  2.  3.  4.]\n",
            " [-4. -3. -2. -1.  0.  1.  2.  3.  4.]\n",
            " [-4. -3. -2. -1.  0.  1.  2.  3.  4.]\n",
            " [-4. -3. -2. -1.  0.  1.  2.  3.  4.]]\n",
            "y_1 = \n",
            "[[-5. -5. -5. -5. -5. -5. -5. -5. -5.]\n",
            " [-4. -4. -4. -4. -4. -4. -4. -4. -4.]\n",
            " [-3. -3. -3. -3. -3. -3. -3. -3. -3.]\n",
            " [-2. -2. -2. -2. -2. -2. -2. -2. -2.]\n",
            " [-1. -1. -1. -1. -1. -1. -1. -1. -1.]\n",
            " [ 0.  0.  0.  0.  0.  0.  0.  0.  0.]\n",
            " [ 1.  1.  1.  1.  1.  1.  1.  1.  1.]\n",
            " [ 2.  2.  2.  2.  2.  2.  2.  2.  2.]\n",
            " [ 3.  3.  3.  3.  3.  3.  3.  3.  3.]\n",
            " [ 4.  4.  4.  4.  4.  4.  4.  4.  4.]\n",
            " [ 5.  5.  5.  5.  5.  5.  5.  5.  5.]]\n"
          ],
          "name": "stdout"
        }
      ]
    },
    {
      "cell_type": "markdown",
      "metadata": {
        "id": "i7IlUWMyMySS"
      },
      "source": [
        "### swapaxes()"
      ]
    },
    {
      "cell_type": "markdown",
      "metadata": {
        "id": "uWuhCSueVWAF"
      },
      "source": [
        "Explaination"
      ]
    },
    {
      "cell_type": "code",
      "metadata": {
        "id": "J5fVEclbVYoB"
      },
      "source": [
        "#With the help of matrix.swapaxes() method, we are able to swap the axes a matrix by using the same method."
      ],
      "execution_count": 247,
      "outputs": []
    },
    {
      "cell_type": "markdown",
      "metadata": {
        "id": "k438cquyVV9a"
      },
      "source": [
        "Syntax"
      ]
    },
    {
      "cell_type": "code",
      "metadata": {
        "id": "Uc9JskhGVYlW"
      },
      "source": [
        "#Syntax : matrix.swapaxes()"
      ],
      "execution_count": 248,
      "outputs": []
    },
    {
      "cell_type": "markdown",
      "metadata": {
        "id": "eYR29iyJVrJG"
      },
      "source": [
        "Code"
      ]
    },
    {
      "cell_type": "code",
      "metadata": {
        "colab": {
          "base_uri": "https://localhost:8080/"
        },
        "id": "evJC-U8RVtdP",
        "outputId": "45c99a04-618b-4db8-9b10-cbd1425cce3b"
      },
      "source": [
        "import numpy as np \r\n",
        "             \r\n",
        "# make matrix with numpy \r\n",
        "gfg = np.matrix('[4, 1, 9; 12, 3, 1; 4, 5, 6]') \r\n",
        "             \r\n",
        "# applying matrix.swapaxes() method \r\n",
        "matx = gfg.swapaxes(1, 1) \r\n",
        "   \r\n",
        "print(matx)"
      ],
      "execution_count": 249,
      "outputs": [
        {
          "output_type": "stream",
          "text": [
            "[[ 4  1  9]\n",
            " [12  3  1]\n",
            " [ 4  5  6]]\n"
          ],
          "name": "stdout"
        }
      ]
    },
    {
      "cell_type": "markdown",
      "metadata": {
        "id": "QaFKhMF5PNbC"
      },
      "source": [
        "### column_stack()s"
      ]
    },
    {
      "cell_type": "markdown",
      "metadata": {
        "id": "k5wwGSOpVeKJ"
      },
      "source": [
        "Explaination"
      ]
    },
    {
      "cell_type": "code",
      "metadata": {
        "id": "BGRQkBNpMykK"
      },
      "source": [
        "#numpy.column_stack() function is used to stack 1-D arrays as columns into a 2-D array.\r\n",
        "#It takes a sequence of 1-D arrays and stack them as columns to make a single 2-D array.\r\n",
        "#2-D arrays are stacked as-is, just like with hstack function."
      ],
      "execution_count": 250,
      "outputs": []
    },
    {
      "cell_type": "markdown",
      "metadata": {
        "id": "HjhvLAuqVe15"
      },
      "source": [
        "Syntax"
      ]
    },
    {
      "cell_type": "code",
      "metadata": {
        "id": "0G1xGGuYPLci"
      },
      "source": [
        "#Syntax : numpy.column_stack(tup)"
      ],
      "execution_count": 251,
      "outputs": []
    },
    {
      "cell_type": "markdown",
      "metadata": {
        "id": "A5iVI_7XVfRC"
      },
      "source": [
        "Code"
      ]
    },
    {
      "cell_type": "code",
      "metadata": {
        "colab": {
          "base_uri": "https://localhost:8080/"
        },
        "id": "SkC9GC16PMFa",
        "outputId": "eaf84eb0-c7f4-4a2d-c79e-034814e80b1b"
      },
      "source": [
        "import numpy as np \r\n",
        "  \r\n",
        "# input array \r\n",
        "in_arr1 = np.array(( 1, 2, 3 )) \r\n",
        "print (\"1st Input array : \\n\", in_arr1)  \r\n",
        "  \r\n",
        "in_arr2 = np.array(( 4, 5, 6 )) \r\n",
        "print (\"2nd Input array : \\n\", in_arr2)  \r\n",
        "  \r\n",
        "# Stacking the two arrays  \r\n",
        "out_arr = np.column_stack((in_arr1, in_arr2)) \r\n",
        "print (\"Output stacked array:\\n \", out_arr) "
      ],
      "execution_count": 252,
      "outputs": [
        {
          "output_type": "stream",
          "text": [
            "1st Input array : \n",
            " [1 2 3]\n",
            "2nd Input array : \n",
            " [4 5 6]\n",
            "Output stacked array:\n",
            "  [[1 4]\n",
            " [2 5]\n",
            " [3 6]]\n"
          ],
          "name": "stdout"
        }
      ]
    }
  ]
}